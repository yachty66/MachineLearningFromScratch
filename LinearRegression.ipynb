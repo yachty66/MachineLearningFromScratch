{
 "cells": [
  {
   "cell_type": "markdown",
   "metadata": {},
   "source": [
    "# Linear Regression"
   ]
  },
  {
   "cell_type": "markdown",
   "metadata": {},
   "source": [
    "## Questions:\n",
    "\n",
    "### What is the wikipedia link to the algorithm?\n",
    "\n",
    "- https://en.wikipedia.org/wiki/Linear_regression\n",
    "\n",
    "### Which type of machine learning algorithm is this?\n",
    "\n",
    "- Supervised learning\n",
    "\n",
    "### What is the best video tutorial on this algorithm?\n",
    "\n",
    "- [Video](https://www.youtube.com/watch?v=ZkjP5RJLQF4)\n",
    "\n",
    "### What is the best picture which describes the algorithm?\n",
    "\n",
    "- ![Linear Regression](Images/LinearRegression.jpeg)\n",
    "\n",
    "### What is one case for which the algorithm is used for?\n",
    "\n",
    "- Company has saved sales data. If she does a linear regression with monthly sales and sales data the company can be eventually able to predict future sales."
   ]
  },
  {
   "cell_type": "markdown",
   "metadata": {},
   "source": [
    "## Sample data on which the algorithm gets proofed on:"
   ]
  },
  {
   "cell_type": "markdown",
   "metadata": {},
   "source": [
    "choosing a pytorch model and than reimplementing this with vanilla python. Use scikit learn because its easier to use. I am a little bit stuck on that - need to come back to this"
   ]
  },
  {
   "cell_type": "markdown",
   "metadata": {},
   "source": [
    "$y= \\theta_0 + \\theta_1 \\cdot x_1 + \\theta_2 \\cdot x_2 + \\cdots + \\theta_n \\cdot x_n$"
   ]
  },
  {
   "cell_type": "markdown",
   "metadata": {},
   "source": [
    "$y =$ Dependent variable\n",
    "\n",
    "$\\theta_0$ = y intercept\n",
    "\n",
    "$\\theta_n= $ Slope coefficient \n",
    "\n",
    "$x_n=$ Independent variables "
   ]
  },
  {
   "cell_type": "markdown",
   "metadata": {},
   "source": [
    "## From scratch implementation."
   ]
  },
  {
   "cell_type": "markdown",
   "metadata": {},
   "source": [
    "Steps for reproducing the algorithm:\n",
    "1. **Hypothesis**\n",
    "    - finding the best theta values a\n",
    "    - what are the best start parameter for linear regression - just start with one (is also something which I can figure out later through testing)\n",
    "    - input is y and X (multiple variables)\n",
    "    - function does calculate \n",
    "    - hypothesis returns y and gets x and thetas as an input X is numpy array\n",
    "2. **Cost function** \n",
    "    - defines the difference between the predicted y and and the actual y \n",
    "    - root mean squared error is used for that\n",
    "3. **Gradient descent**\n",
    "4. **Linear regression**\n",
    "\n",
    "later compare result to https://www.geeksforgeeks.org/gradient-descent-in-linear-regression/ at botton?\n",
    "\n",
    "This steps need to be inputted into a final linear rgeression method \n",
    "\n",
    "I was stuck with my implementation. How can I porceed futher with success. I really need to clarify each term. And it would be good to be already sure on how to implement the whole algorithm. Should I go with the hundred page machine learning book or should i create my own links for good sources?\n",
    "\n",
    "in the last step i need to compress everything in one method. this eg linear regression model which return first y with given data  than differences between real and predicted. i am not sure. mathmatically my goal is it to get the fit values of theta values. Because than i can calculate with X input every y."
   ]
  },
  {
   "cell_type": "markdown",
   "metadata": {},
   "source": [
    "### Hypothesis\n",
    "\n",
    "$y= \\theta_1 \\cdot x_1 + \\theta_2 \\cdot x_2 + \\cdots + \\theta_n \\cdot x_n$"
   ]
  },
  {
   "cell_type": "code",
   "execution_count": null,
   "metadata": {},
   "outputs": [],
   "source": [
    "#returns y this does mean that I either hava a cosntructr with which i change theta values globally or variables\n",
    "#single input x \n",
    "def hypothesis(X, thetas):\n",
    "    #how the data looks like:\n",
    "    #X = [[1,2,3], [1,2,3], [1,2,3], [1,2,3], [1,2,3]]\n",
    "    #thetas = [1,2,3]\n",
    "    '''version if several inputs for x \n",
    "    y=[]\n",
    "    for i in range(len(X)):\n",
    "        y = thetas[0] + sum(thetas[1:] * X[i])\n",
    "    return y'''    \n",
    "    '''version if one input for x \n",
    "    y = thetas[0] + sum(thetas[1:] * X)\n",
    "    return y'''\n",
    "    #inspired by https://ml-cheatsheet.readthedocs.io/en/latest/linear_regression.html#multivariable-regression\n",
    "    y = sum(thetas * X)\n",
    "    return y "
   ]
  },
  {
   "cell_type": "markdown",
   "metadata": {},
   "source": [
    "### Cost function\n",
    "\n",
    "$J = \\frac{1}{2n}\\sum_{i=1}^{n}(y_i - (\\theta_1 \\cdot x_1 + \\theta_2 \\cdot x_2 + \\cdots + \\theta_n \\cdot x_n))^2$"
   ]
  },
  {
   "cell_type": "code",
   "execution_count": null,
   "metadata": {},
   "outputs": [],
   "source": [
    "#calc error of all tuples (X,y) N \n",
    "#for that the function needs theta values, for hypothesis, X values for hypothesis and y values for comparing \n",
    "def costFunction(thetas, X, y):\n",
    "    sumVal = 0\n",
    "    for i in range(len(X)):\n",
    "        sumVal = sumVal + (y[i] - hypothesis(X[i], thetas))**2\n",
    "    j = 1/2*len(X) * sumVal\n",
    "    return j\n",
    "    "
   ]
  },
  {
   "cell_type": "markdown",
   "metadata": {},
   "source": [
    "### Gradient descent\n",
    "\n",
    "Using chain rule for creating partial derivative of each $\\theta$.\n",
    "\n",
    "$f'(\\theta_1) = -x_1(y - (\\theta_1 x_1 + \\theta_2 x_2 + \\cdots + \\theta_n x_n)) \\\\$\n",
    "$f'(\\theta_2) = -x_2(y - (\\theta_1 x_1 + \\theta_2 x_2 + \\cdots + \\theta_n x_n)) \\\\$\n",
    "$\\vdots\\\\$\n",
    "$f'(\\theta_n) = -x_3(y - (\\theta_1 x_1 + \\theta_2 x_2 + \\cdots + \\theta_n x_n))$\n"
   ]
  },
  {
   "cell_type": "code",
   "execution_count": null,
   "metadata": {},
   "outputs": [],
   "source": [
    "def backpropagation(thetas, learningRate, X, y):\n",
    "    #have thetas and need to adjust them so that they fit the best line. first i calc y with an weights all initiliazed with 1 and get prob an huge error. dann muss ich solange weights verändern bis der error sich nicht mehr verändert.\n",
    "    #this does mean i need to calculate the old theta - the new theta. I dont need a learning raet for that thats just something for speeding things up.\n",
    "    thetasNew = []\n",
    "    for i in thetas:\n",
    "        thetaNew = thetas[i] - \n",
    "        thetasNew.append(thetaNew)\n",
    "    "
   ]
  },
  {
   "cell_type": "code",
   "execution_count": null,
   "metadata": {},
   "outputs": [],
   "source": []
  },
  {
   "cell_type": "code",
   "execution_count": null,
   "metadata": {},
   "outputs": [],
   "source": []
  },
  {
   "cell_type": "code",
   "execution_count": null,
   "metadata": {},
   "outputs": [],
   "source": []
  },
  {
   "cell_type": "code",
   "execution_count": null,
   "metadata": {},
   "outputs": [],
   "source": []
  },
  {
   "cell_type": "code",
   "execution_count": null,
   "metadata": {},
   "outputs": [],
   "source": []
  },
  {
   "cell_type": "code",
   "execution_count": 1,
   "metadata": {},
   "outputs": [
    {
     "name": "stdout",
     "output_type": "stream",
     "text": [
      "1.0\n"
     ]
    }
   ],
   "source": [
    "sexualActiviyWithWomans = 0 \n",
    "sexualActiviyWithMens = 3 \n",
    "bi = sexualActiviyWithMens/sexualActiviyWithMens\n",
    "print(bi)"
   ]
  },
  {
   "cell_type": "code",
   "execution_count": null,
   "metadata": {},
   "outputs": [],
   "source": []
  },
  {
   "cell_type": "code",
   "execution_count": null,
   "metadata": {},
   "outputs": [],
   "source": []
  },
  {
   "cell_type": "code",
   "execution_count": null,
   "metadata": {},
   "outputs": [],
   "source": []
  },
  {
   "cell_type": "code",
   "execution_count": null,
   "metadata": {},
   "outputs": [],
   "source": []
  },
  {
   "cell_type": "code",
   "execution_count": null,
   "metadata": {},
   "outputs": [],
   "source": []
  },
  {
   "cell_type": "code",
   "execution_count": null,
   "metadata": {},
   "outputs": [],
   "source": [
    "'''\n",
    "i ask myself how i can get the value from b. i mean thats the output value of the regression. I need a learning rate and backpropagation for that because otherwise. \n",
    "I need to start with some value. \n",
    "\n",
    "'''\n",
    "\n",
    "#house prize = ? + floors\n",
    "def linearRegression(y, X):\n",
    "    for i in range(len(X)):\n",
    "        \n",
    "    "
   ]
  },
  {
   "cell_type": "markdown",
   "metadata": {},
   "source": [
    "## Implementation with PyTorch"
   ]
  }
 ],
 "metadata": {
  "kernelspec": {
   "display_name": "Python 3.8.9 64-bit",
   "language": "python",
   "name": "python3"
  },
  "language_info": {
   "codemirror_mode": {
    "name": "ipython",
    "version": 3
   },
   "file_extension": ".py",
   "mimetype": "text/x-python",
   "name": "python",
   "nbconvert_exporter": "python",
   "pygments_lexer": "ipython3",
   "version": "3.8.9"
  },
  "orig_nbformat": 4,
  "vscode": {
   "interpreter": {
    "hash": "31f2aee4e71d21fbe5cf8b01ff0e069b9275f58929596ceb00d14d90e3e16cd6"
   }
  }
 },
 "nbformat": 4,
 "nbformat_minor": 2
}
